{
 "cells": [
  {
   "cell_type": "markdown",
   "metadata": {},
   "source": [
    "# RPA com Python\n",
    "- Usando a biblioteca pyautogui"
   ]
  },
  {
   "cell_type": "markdown",
   "metadata": {},
   "source": [
    "### Imports"
   ]
  },
  {
   "cell_type": "code",
   "execution_count": 44,
   "metadata": {},
   "outputs": [],
   "source": [
    "import pyautogui\n",
    "import pyperclip\n",
    "import time"
   ]
  },
  {
   "cell_type": "markdown",
   "metadata": {},
   "source": [
    "### Abrindo o gmail"
   ]
  },
  {
   "cell_type": "code",
   "execution_count": 45,
   "metadata": {},
   "outputs": [],
   "source": [
    "pyautogui.PAUSE = 1\n",
    "\n",
    "# Abrir co chrome\n",
    "pyautogui.press('win')\n",
    "pyautogui.write(\"chrome\")\n",
    "pyautogui.press('enter')\n",
    "pyautogui.hotkey(\"ctrl\", \"t\")\n",
    "\n",
    "# Entrar no gmail\n",
    "pyautogui.write(\"gmail.com\")\n",
    "pyautogui.press('enter')\n",
    "\n",
    "# Esperar carregar o gmail\n",
    "while not pyautogui.locateOnScreen('imagens/gmail-escrever.png', confidence=0.5):\n",
    "    time.sleep(1)\n",
    "\n",
    "# Localizar imagem\n",
    "x, y, largura, altura = pyautogui.locateOnScreen('imagens/gmail-escrever.png',confidence=0.5)\n",
    "# clicar no meio da imagem\n",
    "pyautogui.click(x + largura/2, y + altura/2)"
   ]
  },
  {
   "cell_type": "markdown",
   "metadata": {},
   "source": [
    "### Escrevendo e enviando o e-mail"
   ]
  },
  {
   "cell_type": "code",
   "execution_count": 46,
   "metadata": {},
   "outputs": [],
   "source": [
    "link_arquivo = 'https://drive.google.com/file/d/1MpXE8okgyunJPb_MtMUhUzi8ZSFTEFId/view?usp=drive_link'\n",
    "\n",
    "# Destinatário\n",
    "pyautogui.write('davidspader97@gmail.com')\n",
    "pyautogui.press('enter')\n",
    "pyautogui.press('tab')\n",
    "\n",
    "# Assunto\n",
    "pyautogui.write('Lista de clientes')\n",
    "pyautogui.press('tab')\n",
    "\n",
    "# Corpo do e-mail\n",
    "corpo = \"\"\"\n",
    "    Boa tarde,\n",
    "    \n",
    "    Link do arquivo de clientes:\n",
    "    \"\"\"\n",
    "pyperclip.copy(corpo)\n",
    "pyautogui.hotkey('ctrl', 'v')\n",
    "\n",
    "# Adicionando link\n",
    "pyautogui.hotkey(\"ctrl\", \"k\")\n",
    "pyautogui.write('clientes.csv')\n",
    "pyautogui.press('tab')\n",
    "pyautogui.press('tab')\n",
    "pyautogui.write(link_arquivo)\n",
    "x, y, largura, altura = pyautogui.locateOnScreen('imagens/botao-ok.jpeg',confidence=0.5)\n",
    "pyautogui.click(x + largura/2, y + altura/2)\n",
    "pyautogui.press('enter')\n",
    "\n",
    "#Enviar o e-mail\n",
    "pyautogui.hotkey('ctrl', 'enter')\n",
    "\n"
   ]
  }
 ],
 "metadata": {
  "kernelspec": {
   "display_name": "Python 3",
   "language": "python",
   "name": "python3"
  },
  "language_info": {
   "codemirror_mode": {
    "name": "ipython",
    "version": 3
   },
   "file_extension": ".py",
   "mimetype": "text/x-python",
   "name": "python",
   "nbconvert_exporter": "python",
   "pygments_lexer": "ipython3",
   "version": "3.10.12"
  },
  "orig_nbformat": 4
 },
 "nbformat": 4,
 "nbformat_minor": 2
}
