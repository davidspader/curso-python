{
 "cells": [
  {
   "cell_type": "code",
   "execution_count": 29,
   "metadata": {},
   "outputs": [],
   "source": [
    "from selenium import webdriver\n",
    "from selenium.webdriver.chrome.service import Service\n",
    "from selenium.webdriver.common.by import By\n",
    "from selenium.webdriver.common.keys import Keys\n",
    "from webdriver_manager.chrome import ChromeDriverManager\n",
    "import time\n",
    "\n",
    "servico = Service(ChromeDriverManager().install())\n",
    "driver = webdriver.Chrome(service=servico)\n",
    "driver.maximize_window()\n",
    "\n",
    "driver.get('https://br.investing.com/currencies/usd-brl-historical-data')"
   ]
  },
  {
   "cell_type": "code",
   "execution_count": 30,
   "metadata": {},
   "outputs": [],
   "source": [
    "while(len(driver.find_elements(By.LINK_TEXT, 'Baixar dados'))) == 0:\n",
    "    time.sleep(1)\n",
    "\n",
    "driver.find_element(By.LINK_TEXT, 'Baixar dados').click()\n",
    "\n",
    "while(len(driver.find_elements(By.XPATH, '/html/body/div[4]/div/div[2]/div/form/p[2]/button'))) == 0:\n",
    "    time.sleep(1)\n",
    "driver.find_element(By.XPATH, '/html/body/div[4]/div/div[2]/div/form/p[2]/button').click()\n",
    "\n",
    "driver.find_element(By.NAME, 'email').send_keys('davidsambrozio@hotmail.com')\n",
    "driver.find_element(By.NAME, 'password').send_keys('kaisa123@')\n",
    "driver.find_element(By.XPATH, '/html/body/div[4]/div/div[2]/div/form/button').click()\n",
    "\n",
    "while(len(driver.find_elements(By.LINK_TEXT, 'Baixar dados'))) == 0:\n",
    "    time.sleep(1)\n",
    "\n",
    "time.sleep(5)\n",
    "driver.find_element(By.LINK_TEXT, 'Baixar dados').click()"
   ]
  }
 ],
 "metadata": {
  "kernelspec": {
   "display_name": "Python 3",
   "language": "python",
   "name": "python3"
  },
  "language_info": {
   "codemirror_mode": {
    "name": "ipython",
    "version": 3
   },
   "file_extension": ".py",
   "mimetype": "text/x-python",
   "name": "python",
   "nbconvert_exporter": "python",
   "pygments_lexer": "ipython3",
   "version": "3.10.12"
  },
  "orig_nbformat": 4
 },
 "nbformat": 4,
 "nbformat_minor": 2
}
