{
 "cells": [
  {
   "cell_type": "code",
   "execution_count": 69,
   "metadata": {},
   "outputs": [],
   "source": [
    "from selenium import webdriver\n",
    "from selenium.webdriver.chrome.service import Service\n",
    "from selenium.webdriver.common.by import By\n",
    "from webdriver_manager.chrome import ChromeDriverManager\n",
    "from selenium.webdriver.common.action_chains import ActionChains\n",
    "import pandas as pd\n",
    "import time\n",
    "import os\n",
    "\n",
    "servico = Service(ChromeDriverManager().install())\n",
    "driver = webdriver.Chrome(service=servico)\n",
    "\n",
    "caminho = os.getcwd()\n",
    "arquivo = r\"file://\" + caminho + r\"/index.html\""
   ]
  },
  {
   "cell_type": "code",
   "execution_count": 70,
   "metadata": {},
   "outputs": [],
   "source": [
    "processos_df = pd.read_excel('./Processos.xlsx')\n",
    "\n",
    "driver.get(arquivo)"
   ]
  },
  {
   "cell_type": "code",
   "execution_count": null,
   "metadata": {},
   "outputs": [],
   "source": [
    "for processo in processos_df.index:\n",
    "    hover = ActionChains(driver)\n",
    "    buttonToHover = driver.find_element(By.CLASS_NAME, 'dropdown-menu')\n",
    "    hover.move_to_element(buttonToHover).perform()\n",
    "\n",
    "    driver.find_element(By.LINK_TEXT, processos_df.loc[processo, \"Cidade\"]).click()\n",
    "\n",
    "    browser_tab = driver.window_handles[0]\n",
    "    new_browser_tab = driver.window_handles[1]\n",
    "\n",
    "    driver.switch_to.window(new_browser_tab)\n",
    "\n",
    "    driver.find_element(By.ID, 'nome').send_keys(processos_df.loc[processo, \"Nome\"])\n",
    "    driver.find_element(By.ID, 'advogado').send_keys(processos_df.loc[processo, \"Advogado\"])\n",
    "    driver.find_element(By.ID, 'numero').send_keys(processos_df.loc[processo, \"Processo\"])\n",
    "\n",
    "    driver.find_element(By.CLASS_NAME, 'registerbtn').click()\n",
    "\n",
    "    alert = driver.switch_to.alert\n",
    "    alert.accept()\n",
    "\n",
    "    while True:\n",
    "        try:\n",
    "            alert = driver.switch_to.alert\n",
    "            break\n",
    "        except:\n",
    "            time.sleep(1)\n",
    "    \n",
    "    alertText = alert.text\n",
    "\n",
    "    if \"Processo encontrado com sucesso\" in alertText:\n",
    "        alert.accept()\n",
    "        processos_df.loc[processo, 'Status'] = \"Encontrado\"\n",
    "    else:\n",
    "        alert.accept()\n",
    "        processos_df.loc[processo, 'Status'] = \"Não encontrado\"\n",
    "\n",
    "    driver.close()\n",
    "    driver.switch_to.window(browser_tab)"
   ]
  },
  {
   "cell_type": "code",
   "execution_count": 72,
   "metadata": {},
   "outputs": [
    {
     "data": {
      "text/html": [
       "<div>\n",
       "<style scoped>\n",
       "    .dataframe tbody tr th:only-of-type {\n",
       "        vertical-align: middle;\n",
       "    }\n",
       "\n",
       "    .dataframe tbody tr th {\n",
       "        vertical-align: top;\n",
       "    }\n",
       "\n",
       "    .dataframe thead th {\n",
       "        text-align: right;\n",
       "    }\n",
       "</style>\n",
       "<table border=\"1\" class=\"dataframe\">\n",
       "  <thead>\n",
       "    <tr style=\"text-align: right;\">\n",
       "      <th></th>\n",
       "      <th>Nome</th>\n",
       "      <th>Advogado</th>\n",
       "      <th>Processo</th>\n",
       "      <th>Cidade</th>\n",
       "      <th>Status</th>\n",
       "    </tr>\n",
       "  </thead>\n",
       "  <tbody>\n",
       "    <tr>\n",
       "      <th>0</th>\n",
       "      <td>Lira</td>\n",
       "      <td>Alon Lawyer</td>\n",
       "      <td>PC6592</td>\n",
       "      <td>Distrito Federal</td>\n",
       "      <td>Encontrado</td>\n",
       "    </tr>\n",
       "    <tr>\n",
       "      <th>1</th>\n",
       "      <td>João</td>\n",
       "      <td>Lawyer Alon</td>\n",
       "      <td>EB3792</td>\n",
       "      <td>Rio de Janeiro</td>\n",
       "      <td>Não encontrado</td>\n",
       "    </tr>\n",
       "    <tr>\n",
       "      <th>2</th>\n",
       "      <td>Amanda</td>\n",
       "      <td>Amanda mesmo</td>\n",
       "      <td>MM1043</td>\n",
       "      <td>Rio de Janeiro</td>\n",
       "      <td>Encontrado</td>\n",
       "    </tr>\n",
       "    <tr>\n",
       "      <th>3</th>\n",
       "      <td>Carol</td>\n",
       "      <td>Amanda</td>\n",
       "      <td>PC5197</td>\n",
       "      <td>São Paulo</td>\n",
       "      <td>Encontrado</td>\n",
       "    </tr>\n",
       "  </tbody>\n",
       "</table>\n",
       "</div>"
      ],
      "text/plain": [
       "     Nome      Advogado Processo            Cidade          Status\n",
       "0    Lira   Alon Lawyer   PC6592  Distrito Federal      Encontrado\n",
       "1    João   Lawyer Alon   EB3792    Rio de Janeiro  Não encontrado\n",
       "2  Amanda  Amanda mesmo   MM1043    Rio de Janeiro      Encontrado\n",
       "3   Carol        Amanda   PC5197         São Paulo      Encontrado"
      ]
     },
     "metadata": {},
     "output_type": "display_data"
    }
   ],
   "source": [
    "driver.quit()\n",
    "display(processos_df)"
   ]
  }
 ],
 "metadata": {
  "kernelspec": {
   "display_name": "Python 3",
   "language": "python",
   "name": "python3"
  },
  "language_info": {
   "codemirror_mode": {
    "name": "ipython",
    "version": 3
   },
   "file_extension": ".py",
   "mimetype": "text/x-python",
   "name": "python",
   "nbconvert_exporter": "python",
   "pygments_lexer": "ipython3",
   "version": "3.10.12"
  },
  "orig_nbformat": 4
 },
 "nbformat": 4,
 "nbformat_minor": 2
}
