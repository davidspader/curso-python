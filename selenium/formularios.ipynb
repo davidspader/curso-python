{
 "cells": [
  {
   "cell_type": "markdown",
   "metadata": {},
   "source": [
    "# Selenium interagindo com Formulário\n",
    "\n",
    "#### imports e configs"
   ]
  },
  {
   "cell_type": "code",
   "execution_count": 98,
   "metadata": {},
   "outputs": [],
   "source": [
    "from selenium import webdriver\n",
    "from selenium.webdriver.chrome.service import Service\n",
    "from selenium.webdriver.common.by import By\n",
    "from webdriver_manager.chrome import ChromeDriverManager\n",
    "import os\n",
    "\n",
    "servico = Service(ChromeDriverManager().install())\n",
    "driver = webdriver.Chrome(service=servico)\n",
    "\n",
    "caminho = os.getcwd()\n",
    "arquivo = r\"file://\" + caminho + r\"/arquivos/formulario.html\"\n",
    "driver.get(arquivo)"
   ]
  },
  {
   "cell_type": "markdown",
   "metadata": {},
   "source": [
    "#### Clicar no botão"
   ]
  },
  {
   "cell_type": "code",
   "execution_count": 99,
   "metadata": {},
   "outputs": [],
   "source": [
    "driver.find_element(By.XPATH, '/html/body/form/input[1]').click()\n",
    "# Confirmar alerta:\n",
    "alerta = driver.switch_to.alert\n",
    "alerta.accept()"
   ]
  },
  {
   "cell_type": "markdown",
   "metadata": {},
   "source": [
    "#### Clicar na checkbox"
   ]
  },
  {
   "cell_type": "code",
   "execution_count": 100,
   "metadata": {},
   "outputs": [
    {
     "name": "stdout",
     "output_type": "stream",
     "text": [
      "True\n"
     ]
    }
   ],
   "source": [
    "driver.find_element(By.XPATH, '/html/body/form/input[2]').click()\n",
    "\n",
    "# Mostrar valor:\n",
    "print(driver.find_element(By.XPATH, '/html/body/form/input[2]').is_selected())"
   ]
  },
  {
   "cell_type": "markdown",
   "metadata": {},
   "source": [
    "#### Seleção de cores"
   ]
  },
  {
   "cell_type": "code",
   "execution_count": 101,
   "metadata": {},
   "outputs": [
    {
     "name": "stdout",
     "output_type": "stream",
     "text": [
      "#ff3333\n"
     ]
    }
   ],
   "source": [
    "driver.find_element(By.XPATH, '/html/body/form/input[4]').send_keys('#FFFFFF')\n",
    "driver.find_element(By.XPATH, '/html/body/form/input[5]').send_keys('#FF3333')\n",
    "\n",
    "# Mostrar valor:\n",
    "print(driver.find_element(By.XPATH, '/html/body/form/input[5]').get_attribute('value'))"
   ]
  },
  {
   "cell_type": "markdown",
   "metadata": {},
   "source": [
    "#### Datas"
   ]
  },
  {
   "cell_type": "code",
   "execution_count": 102,
   "metadata": {},
   "outputs": [
    {
     "name": "stdout",
     "output_type": "stream",
     "text": [
      "1997-10-27\n"
     ]
    }
   ],
   "source": [
    "driver.find_element(By.XPATH, '/html/body/form/input[6]').send_keys('27/10/1997')\n",
    "\n",
    "# Mostrar valor:\n",
    "print(driver.find_element(By.XPATH, '/html/body/form/input[6]').get_attribute('value'))"
   ]
  },
  {
   "cell_type": "markdown",
   "metadata": {},
   "source": [
    "#### Datas com hora"
   ]
  },
  {
   "cell_type": "code",
   "execution_count": 103,
   "metadata": {},
   "outputs": [
    {
     "name": "stdout",
     "output_type": "stream",
     "text": [
      "1997-10-27T10:22\n"
     ]
    }
   ],
   "source": [
    "from selenium.webdriver.common.keys import Keys\n",
    "\n",
    "driver.find_element(By.XPATH, '/html/body/form/input[7]').send_keys('27/10/1997', Keys.TAB, '10:22')\n",
    "\n",
    "# Mostrar valor:\n",
    "print(driver.find_element(By.XPATH, '/html/body/form/input[7]').get_attribute('value'))"
   ]
  },
  {
   "cell_type": "markdown",
   "metadata": {},
   "source": [
    "#### Botão upload de arquivo"
   ]
  },
  {
   "cell_type": "code",
   "execution_count": 104,
   "metadata": {},
   "outputs": [
    {
     "name": "stdout",
     "output_type": "stream",
     "text": [
      "C:\\fakepath\\formulario.html\n"
     ]
    }
   ],
   "source": [
    "arquivo_formulario = caminho + r\"/arquivos/formulario.html\"\n",
    "driver.find_element(By.XPATH, '/html/body/form/input[8]').send_keys(arquivo_formulario)\n",
    "\n",
    "# Mostrar valor:\n",
    "print(driver.find_element(By.XPATH, '/html/body/form/input[8]').get_attribute('value'))"
   ]
  },
  {
   "cell_type": "markdown",
   "metadata": {},
   "source": [
    "#### Selecionar mês e ano"
   ]
  },
  {
   "cell_type": "code",
   "execution_count": 105,
   "metadata": {},
   "outputs": [
    {
     "name": "stdout",
     "output_type": "stream",
     "text": [
      "1997-10\n"
     ]
    }
   ],
   "source": [
    "driver.find_element(By.XPATH, '/html/body/form/input[9]').send_keys('outubro', Keys.TAB, '1997')\n",
    "\n",
    "# Mostrar valor:\n",
    "print(driver.find_element(By.XPATH, '/html/body/form/input[9]').get_attribute('value'))"
   ]
  },
  {
   "cell_type": "markdown",
   "metadata": {},
   "source": [
    "#### Campos númericos"
   ]
  },
  {
   "cell_type": "code",
   "execution_count": 106,
   "metadata": {},
   "outputs": [
    {
     "name": "stdout",
     "output_type": "stream",
     "text": [
      "12314213\n"
     ]
    }
   ],
   "source": [
    "driver.find_element(By.XPATH, '/html/body/form/input[10]').send_keys('12314213')\n",
    "\n",
    "# Mostrar valor:\n",
    "print(driver.find_element(By.XPATH, '/html/body/form/input[10]').get_attribute('value'))"
   ]
  },
  {
   "cell_type": "markdown",
   "metadata": {},
   "source": [
    "#### Password"
   ]
  },
  {
   "cell_type": "code",
   "execution_count": 107,
   "metadata": {},
   "outputs": [
    {
     "name": "stdout",
     "output_type": "stream",
     "text": [
      "senha123\n"
     ]
    }
   ],
   "source": [
    "driver.find_element(By.XPATH, '/html/body/form/input[11]').send_keys('senha123')\n",
    "\n",
    "# Mostrar valor:\n",
    "print(driver.find_element(By.XPATH, '/html/body/form/input[11]').get_attribute('value'))"
   ]
  },
  {
   "cell_type": "markdown",
   "metadata": {},
   "source": [
    "#### Radio button"
   ]
  },
  {
   "cell_type": "code",
   "execution_count": 108,
   "metadata": {},
   "outputs": [
    {
     "name": "stdout",
     "output_type": "stream",
     "text": [
      "True\n",
      "False\n",
      "True\n"
     ]
    }
   ],
   "source": [
    "# Seleciona o primeiro:\n",
    "driver.find_element(By.XPATH, '/html/body/form/input[12]').click()\n",
    "# Mostrar valor:\n",
    "print(driver.find_element(By.XPATH, '/html/body/form/input[12]').is_selected())\n",
    "# Seleciona o segundo:\n",
    "driver.find_element(By.XPATH, '/html/body/form/input[13]').click()\n",
    "# Mostra o valor do primeiro:\n",
    "print(driver.find_element(By.XPATH, '/html/body/form/input[12]').is_selected())\n",
    "# Mostra o valor do segundo:\n",
    "print(driver.find_element(By.XPATH, '/html/body/form/input[13]').is_selected())"
   ]
  },
  {
   "cell_type": "markdown",
   "metadata": {},
   "source": [
    "#### Slide"
   ]
  },
  {
   "cell_type": "code",
   "execution_count": 109,
   "metadata": {},
   "outputs": [
    {
     "name": "stdout",
     "output_type": "stream",
     "text": [
      "70\n"
     ]
    }
   ],
   "source": [
    "driver.find_element(By.XPATH, '/html/body/form/input[15]').clear()\n",
    "for i in range(70 - 50):\n",
    "    driver.find_element(By.XPATH, '/html/body/form/input[15]').send_keys(Keys.ARROW_RIGHT)\n",
    "\n",
    "# Mostrar valor:\n",
    "print(driver.find_element(By.XPATH, '/html/body/form/input[15]').get_attribute('value'))"
   ]
  },
  {
   "cell_type": "markdown",
   "metadata": {},
   "source": [
    "#### Texto"
   ]
  },
  {
   "cell_type": "code",
   "execution_count": 110,
   "metadata": {},
   "outputs": [
    {
     "name": "stdout",
     "output_type": "stream",
     "text": [
      "blablabla\n"
     ]
    }
   ],
   "source": [
    "driver.find_element(By.XPATH, '/html/body/form/input[16]').send_keys('blablabla')\n",
    "\n",
    "# Mostrar valor:\n",
    "print(driver.find_element(By.XPATH, '/html/body/form/input[16]').get_attribute('value'))"
   ]
  },
  {
   "cell_type": "markdown",
   "metadata": {},
   "source": [
    "### Horas"
   ]
  },
  {
   "cell_type": "code",
   "execution_count": 111,
   "metadata": {},
   "outputs": [
    {
     "name": "stdout",
     "output_type": "stream",
     "text": [
      "12:00\n"
     ]
    }
   ],
   "source": [
    "driver.find_element(By.XPATH, '/html/body/form/input[17]').send_keys('12:00')\n",
    "\n",
    "# Mostrar valor:\n",
    "print(driver.find_element(By.XPATH, '/html/body/form/input[17]').get_attribute('value'))"
   ]
  },
  {
   "cell_type": "markdown",
   "metadata": {},
   "source": [
    "### Data personalizada"
   ]
  },
  {
   "cell_type": "code",
   "execution_count": 112,
   "metadata": {},
   "outputs": [
    {
     "name": "stdout",
     "output_type": "stream",
     "text": [
      "2010-W04\n"
     ]
    }
   ],
   "source": [
    "driver.find_element(By.XPATH, '/html/body/form/input[18]').send_keys('4', Keys.TAB, '2010')\n",
    "\n",
    "# Mostrar valor:\n",
    "print(driver.find_element(By.XPATH, '/html/body/form/input[18]').get_attribute('value'))"
   ]
  },
  {
   "cell_type": "markdown",
   "metadata": {},
   "source": [
    "#### Bloco de texto"
   ]
  },
  {
   "cell_type": "code",
   "execution_count": 113,
   "metadata": {},
   "outputs": [
    {
     "name": "stdout",
     "output_type": "stream",
     "text": [
      "Oi\n",
      "teste de texto\n",
      "aaaaaaa\n",
      "\n"
     ]
    }
   ],
   "source": [
    "texto = '''Oi\n",
    "teste de texto\n",
    "aaaaaaa\n",
    "'''\n",
    "\n",
    "driver.find_element(By.XPATH, '//*[@id=\"story\"]').send_keys(texto)\n",
    "\n",
    "# Mostrar valor:\n",
    "print(driver.find_element(By.XPATH, '//*[@id=\"story\"]').get_attribute('value'))\n",
    "\n",
    "# Limpar valor:\n",
    "driver.find_element(By.XPATH, '//*[@id=\"story\"]').clear()"
   ]
  },
  {
   "cell_type": "markdown",
   "metadata": {},
   "source": [
    "#### Select"
   ]
  },
  {
   "cell_type": "code",
   "execution_count": 114,
   "metadata": {},
   "outputs": [
    {
     "name": "stdout",
     "output_type": "stream",
     "text": [
      "c\n"
     ]
    }
   ],
   "source": [
    "driver.find_element(By.XPATH, '/html/body/form/select[1]').send_keys('C')\n",
    "\n",
    "# Mostrar valor:\n",
    "print(driver.find_element(By.XPATH, '/html/body/form/select[1]').get_attribute('value'))"
   ]
  },
  {
   "cell_type": "markdown",
   "metadata": {},
   "source": [
    "#### Select clicando na opção"
   ]
  },
  {
   "cell_type": "code",
   "execution_count": 115,
   "metadata": {},
   "outputs": [
    {
     "name": "stdout",
     "output_type": "stream",
     "text": [
      "b\n"
     ]
    }
   ],
   "source": [
    "driver.find_element(By.XPATH, '/html/body/form/select[1]').click()\n",
    "\n",
    "#clicando na opção B\n",
    "driver.find_element(By.XPATH, '/html/body/form/select[1]/option[2]').click()\n",
    "\n",
    "# Mostrar valor:\n",
    "print(driver.find_element(By.XPATH, '/html/body/form/select[1]').get_attribute('value'))"
   ]
  },
  {
   "cell_type": "markdown",
   "metadata": {},
   "source": [
    "#### Usando o metodo Select"
   ]
  },
  {
   "cell_type": "code",
   "execution_count": 116,
   "metadata": {},
   "outputs": [
    {
     "name": "stdout",
     "output_type": "stream",
     "text": [
      "c\n"
     ]
    }
   ],
   "source": [
    "from selenium.webdriver.support.select import Select\n",
    "\n",
    "select = Select(driver.find_element(By.XPATH, '/html/body/form/select[1]'))\n",
    "select.select_by_index(2)\n",
    "\n",
    "print(select.first_selected_option.get_attribute('value'))"
   ]
  }
 ],
 "metadata": {
  "kernelspec": {
   "display_name": "Python 3",
   "language": "python",
   "name": "python3"
  },
  "language_info": {
   "codemirror_mode": {
    "name": "ipython",
    "version": 3
   },
   "file_extension": ".py",
   "mimetype": "text/x-python",
   "name": "python",
   "nbconvert_exporter": "python",
   "pygments_lexer": "ipython3",
   "version": "3.10.12"
  },
  "orig_nbformat": 4
 },
 "nbformat": 4,
 "nbformat_minor": 2
}
