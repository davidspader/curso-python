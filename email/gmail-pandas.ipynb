{
 "cells": [
  {
   "cell_type": "markdown",
   "metadata": {},
   "source": [
    "# Pandas e envio de e-mail"
   ]
  },
  {
   "cell_type": "code",
   "execution_count": 6,
   "metadata": {},
   "outputs": [],
   "source": [
    "# Imports\n",
    "\n",
    "import pandas as pd\n",
    "import yagmail\n",
    "from dotenv import dotenv_values\n",
    "\n",
    "config = dotenv_values('.env')"
   ]
  },
  {
   "cell_type": "code",
   "execution_count": 7,
   "metadata": {},
   "outputs": [],
   "source": [
    "gerentes_df = pd.read_excel(\"Enviar E-mails.xlsx\")\n",
    "\n",
    "for i, email in enumerate(gerentes_df['E-mail']):\n",
    "    gerente = gerentes_df.loc[i, 'Gerente']\n",
    "    area = gerentes_df.loc[i, 'Relatório']\n",
    "\n",
    "    assunto = 'Relatório de {}'.format(area)\n",
    "    corpo_email = '''\n",
    "    Boa tarde {},\n",
    "    Segue em anexo o relatório de {},\n",
    "    Att.\n",
    "    '''.format(gerente, area)\n",
    "\n",
    "    usuario = yagmail.SMTP(config['GMAIL-EMAIL'], config['GMAIL-PASSWORD'])\n",
    "    usuario.send(to=email, subject=assunto, contents=corpo_email, attachments='{}.xlsx'.format(area))\n",
    "\n",
    "\n"
   ]
  }
 ],
 "metadata": {
  "kernelspec": {
   "display_name": "Python 3",
   "language": "python",
   "name": "python3"
  },
  "language_info": {
   "codemirror_mode": {
    "name": "ipython",
    "version": 3
   },
   "file_extension": ".py",
   "mimetype": "text/x-python",
   "name": "python",
   "nbconvert_exporter": "python",
   "pygments_lexer": "ipython3",
   "version": "3.10.12"
  },
  "orig_nbformat": 4
 },
 "nbformat": 4,
 "nbformat_minor": 2
}
