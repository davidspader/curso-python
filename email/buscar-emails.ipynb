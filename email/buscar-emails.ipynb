{
 "cells": [
  {
   "cell_type": "markdown",
   "metadata": {},
   "source": [
    "# Manipular e-mails na caixa de entrada\n",
    "### Imports e login no servidor de e-mail"
   ]
  },
  {
   "cell_type": "code",
   "execution_count": 1,
   "metadata": {},
   "outputs": [],
   "source": [
    "from imap_tools import MailBox, AND\n",
    "from dotenv import dotenv_values\n",
    "config = dotenv_values('.env')\n",
    "\n",
    "meu_email = MailBox('imap.gmail.com').login(config['GMAIL-EMAIL'],config['GMAIL-PASSWORD'])"
   ]
  },
  {
   "cell_type": "markdown",
   "metadata": {},
   "source": [
    "### Buscar e-mails enviados por um remetente"
   ]
  },
  {
   "cell_type": "code",
   "execution_count": 2,
   "metadata": {},
   "outputs": [
    {
     "name": "stdout",
     "output_type": "stream",
     "text": [
      "Relatório de Financeiro\n",
      "Relatório de Marketing\n",
      "Relatório excel\n"
     ]
    }
   ],
   "source": [
    "lista_emails = meu_email.fetch(AND(from_=config['GMAIL-EMAIL']))\n",
    "for email in lista_emails:\n",
    "    print(email.subject)"
   ]
  },
  {
   "cell_type": "markdown",
   "metadata": {},
   "source": [
    "### Buscar o anexo de um e-mail"
   ]
  },
  {
   "cell_type": "code",
   "execution_count": 3,
   "metadata": {},
   "outputs": [],
   "source": [
    "lista_emails = meu_email.fetch(AND(from_=config['GMAIL-EMAIL']))\n",
    "for email in lista_emails:\n",
    "    if(len(email.attachments)) > 0:\n",
    "        for anexo in email.attachments:\n",
    "            if \"RelatorioExcel\" in anexo.filename:\n",
    "                with open('RelatorioExcel.xlsx', 'wb') as arquivo_excel:\n",
    "                    arquivo_excel.write(anexo.payload)"
   ]
  }
 ],
 "metadata": {
  "kernelspec": {
   "display_name": "Python 3",
   "language": "python",
   "name": "python3"
  },
  "language_info": {
   "codemirror_mode": {
    "name": "ipython",
    "version": 3
   },
   "file_extension": ".py",
   "mimetype": "text/x-python",
   "name": "python",
   "nbconvert_exporter": "python",
   "pygments_lexer": "ipython3",
   "version": "3.10.12"
  },
  "orig_nbformat": 4
 },
 "nbformat": 4,
 "nbformat_minor": 2
}
