{
 "cells": [
  {
   "cell_type": "markdown",
   "metadata": {},
   "source": [
    "# Ler e extrair informações de um PDF com Python"
   ]
  },
  {
   "cell_type": "markdown",
   "metadata": {},
   "source": [
    "    - Separar as páginas de um pdf"
   ]
  },
  {
   "cell_type": "code",
   "execution_count": 6,
   "metadata": {},
   "outputs": [],
   "source": [
    "import PyPDF2 as pyf\n",
    "from pathlib import Path\n",
    "\n",
    "nome_arquivo = 'MGLU_ER_3T20_POR.pdf'\n",
    "arquivo_pdf = pyf.PdfReader(nome_arquivo)\n",
    "\n",
    "i = 1\n",
    "for pagina in arquivo_pdf.pages:\n",
    "    arquivo_novo = pyf.PdfWriter()\n",
    "    arquivo_novo.add_page(pagina)\n",
    "\n",
    "    with Path(f'paginas/Arquivo{i}.pdf').open(mode='wb') as arquivo_final:\n",
    "        arquivo_novo.write(arquivo_final)\n",
    "        i+= 1\n",
    "    "
   ]
  },
  {
   "cell_type": "markdown",
   "metadata": {},
   "source": [
    "    - Juntar vários pdfs em 1"
   ]
  },
  {
   "cell_type": "code",
   "execution_count": 10,
   "metadata": {},
   "outputs": [],
   "source": [
    "paginas = [1, 14, 16]\n",
    "\n",
    "novo_pdf = pyf.PdfWriter()\n",
    "for num_pagina in paginas:\n",
    "    nome_arquivo = f'paginas/Arquivo{num_pagina}.pdf'\n",
    "    arquivo_pdf = pyf.PdfReader(nome_arquivo)\n",
    "    pagina = arquivo_pdf.pages[0]\n",
    "    novo_pdf.add_page(pagina)\n",
    "\n",
    "with Path(f'novo-pdf.pdf').open(mode='wb') as arquivo_final:\n",
    "        novo_pdf.write(arquivo_final)"
   ]
  },
  {
   "cell_type": "markdown",
   "metadata": {},
   "source": [
    "    - Para adicionar todas as páginas de 2 pdfs"
   ]
  },
  {
   "cell_type": "code",
   "execution_count": 13,
   "metadata": {},
   "outputs": [],
   "source": [
    "pdf_mesclado = pyf.PdfMerger()\n",
    "\n",
    "arquivo1 = \"MGLU_ER_3T20_POR.pdf\"\n",
    "arquivo2 = \"MGLU_ER_4T20_POR.pdf\"\n",
    "\n",
    "pdf_mesclado.append(arquivo1)\n",
    "pdf_mesclado.append(arquivo2)\n",
    "\n",
    "with Path(f'novo-pdf-completo.pdf').open(mode='wb') as arquivo_final:\n",
    "        pdf_mesclado.write(arquivo_final)"
   ]
  },
  {
   "cell_type": "markdown",
   "metadata": {},
   "source": [
    "    - Inserir arquivo no meio do outro"
   ]
  },
  {
   "cell_type": "code",
   "execution_count": 14,
   "metadata": {},
   "outputs": [],
   "source": [
    "pdf_mesclado = pyf.PdfMerger()\n",
    "\n",
    "pdf_mesclado.append(arquivo1)\n",
    "pdf_mesclado.merge(1, arquivo2)\n",
    "\n",
    "with Path(f'novo-pdf-merge.pdf').open(mode='wb') as arquivo_final:\n",
    "        pdf_mesclado.write(arquivo_final)"
   ]
  },
  {
   "cell_type": "markdown",
   "metadata": {},
   "source": [
    "    - Rodar Página"
   ]
  },
  {
   "cell_type": "code",
   "execution_count": null,
   "metadata": {},
   "outputs": [],
   "source": []
  },
  {
   "cell_type": "markdown",
   "metadata": {},
   "source": [
    "    - Pegar texto da página e identificar onde está essa informação"
   ]
  },
  {
   "cell_type": "code",
   "execution_count": null,
   "metadata": {},
   "outputs": [],
   "source": []
  },
  {
   "cell_type": "markdown",
   "metadata": {},
   "source": [
    "    - Para ler tabelas em pdf, use o tabula (é ninja)"
   ]
  },
  {
   "cell_type": "code",
   "execution_count": null,
   "metadata": {},
   "outputs": [],
   "source": []
  },
  {
   "cell_type": "markdown",
   "metadata": {},
   "source": [
    "    - Páginas com mais de 1 tabela"
   ]
  },
  {
   "cell_type": "code",
   "execution_count": null,
   "metadata": {},
   "outputs": [],
   "source": []
  },
  {
   "cell_type": "markdown",
   "metadata": {},
   "source": [
    "    - O que fazer quando o tabula não consegue ler alguma linha da tabela? Como o cabeçalho, no nosso caso?"
   ]
  },
  {
   "cell_type": "code",
   "execution_count": null,
   "metadata": {},
   "outputs": [],
   "source": []
  }
 ],
 "metadata": {
  "kernelspec": {
   "display_name": "Python 3",
   "language": "python",
   "name": "python3"
  },
  "language_info": {
   "codemirror_mode": {
    "name": "ipython",
    "version": 3
   },
   "file_extension": ".py",
   "mimetype": "text/x-python",
   "name": "python",
   "nbconvert_exporter": "python",
   "pygments_lexer": "ipython3",
   "version": "3.10.12"
  }
 },
 "nbformat": 4,
 "nbformat_minor": 4
}
