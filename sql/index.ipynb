{
 "cells": [
  {
   "cell_type": "markdown",
   "metadata": {},
   "source": [
    "# Banco de dados - mysql e pyodbc\n",
    "\n",
    "### imports e config"
   ]
  },
  {
   "cell_type": "code",
   "execution_count": 2,
   "metadata": {},
   "outputs": [],
   "source": [
    "import pyodbc\n",
    "import pandas as pd\n",
    "\n",
    "conexao = pyodbc.connect('DRIVER={Devart ODBC Driver for MySQL};User ID=admin;Password=1234;Server=localhost;Database=booking;')\n",
    "cursor = conexao.cursor()"
   ]
  },
  {
   "cell_type": "markdown",
   "metadata": {},
   "source": [
    "### Select"
   ]
  },
  {
   "cell_type": "code",
   "execution_count": 3,
   "metadata": {},
   "outputs": [
    {
     "name": "stderr",
     "output_type": "stream",
     "text": [
      "/tmp/ipykernel_19146/162869766.py:1: UserWarning: pandas only supports SQLAlchemy connectable (engine/connection) or database string URI or sqlite3 DBAPI2 connection. Other DBAPI2 objects are not tested. Please consider using SQLAlchemy.\n",
      "  rents_df = pd.read_sql('select * from rents', conexao)\n"
     ]
    },
    {
     "data": {
      "text/html": [
       "<div>\n",
       "<style scoped>\n",
       "    .dataframe tbody tr th:only-of-type {\n",
       "        vertical-align: middle;\n",
       "    }\n",
       "\n",
       "    .dataframe tbody tr th {\n",
       "        vertical-align: top;\n",
       "    }\n",
       "\n",
       "    .dataframe thead th {\n",
       "        text-align: right;\n",
       "    }\n",
       "</style>\n",
       "<table border=\"1\" class=\"dataframe\">\n",
       "  <thead>\n",
       "    <tr style=\"text-align: right;\">\n",
       "      <th></th>\n",
       "      <th>id</th>\n",
       "      <th>user_id</th>\n",
       "      <th>house_id</th>\n",
       "      <th>initial_date</th>\n",
       "      <th>final_date</th>\n",
       "      <th>daily_price</th>\n",
       "      <th>cleaning_price</th>\n",
       "      <th>discount</th>\n",
       "      <th>created_at</th>\n",
       "      <th>updated_at</th>\n",
       "    </tr>\n",
       "  </thead>\n",
       "  <tbody>\n",
       "    <tr>\n",
       "      <th>0</th>\n",
       "      <td>1</td>\n",
       "      <td>1</td>\n",
       "      <td>1</td>\n",
       "      <td>2022-08-23 14:00:00</td>\n",
       "      <td>2022-09-28 10:00:00</td>\n",
       "      <td>300.0</td>\n",
       "      <td>100.0</td>\n",
       "      <td>0.0</td>\n",
       "      <td>2022-08-24 00:19:57</td>\n",
       "      <td>2022-08-25 23:39:25</td>\n",
       "    </tr>\n",
       "    <tr>\n",
       "      <th>1</th>\n",
       "      <td>2</td>\n",
       "      <td>1</td>\n",
       "      <td>1</td>\n",
       "      <td>2019-04-02 15:25:37</td>\n",
       "      <td>2019-05-02 15:25:37</td>\n",
       "      <td>500.0</td>\n",
       "      <td>200.0</td>\n",
       "      <td>100.0</td>\n",
       "      <td>2022-08-25 19:56:46</td>\n",
       "      <td>2022-08-25 23:41:59</td>\n",
       "    </tr>\n",
       "    <tr>\n",
       "      <th>2</th>\n",
       "      <td>4</td>\n",
       "      <td>1</td>\n",
       "      <td>1</td>\n",
       "      <td>2023-04-02 15:25:37</td>\n",
       "      <td>2023-05-02 15:25:37</td>\n",
       "      <td>1000.0</td>\n",
       "      <td>400.0</td>\n",
       "      <td>3223.0</td>\n",
       "      <td>2022-08-27 00:20:00</td>\n",
       "      <td>2022-08-27 00:21:20</td>\n",
       "    </tr>\n",
       "    <tr>\n",
       "      <th>3</th>\n",
       "      <td>6</td>\n",
       "      <td>1</td>\n",
       "      <td>1</td>\n",
       "      <td>2023-08-28 14:00:00</td>\n",
       "      <td>2023-09-30 10:00:00</td>\n",
       "      <td>500.0</td>\n",
       "      <td>200.0</td>\n",
       "      <td>100.0</td>\n",
       "      <td>2022-08-30 18:57:19</td>\n",
       "      <td>2022-08-30 18:57:19</td>\n",
       "    </tr>\n",
       "    <tr>\n",
       "      <th>4</th>\n",
       "      <td>7</td>\n",
       "      <td>1</td>\n",
       "      <td>1</td>\n",
       "      <td>2022-10-27 14:00:00</td>\n",
       "      <td>2022-11-05 10:00:00</td>\n",
       "      <td>200.0</td>\n",
       "      <td>230.0</td>\n",
       "      <td>0.0</td>\n",
       "      <td>2022-08-30 19:05:33</td>\n",
       "      <td>2022-08-30 19:05:33</td>\n",
       "    </tr>\n",
       "    <tr>\n",
       "      <th>5</th>\n",
       "      <td>8</td>\n",
       "      <td>1</td>\n",
       "      <td>1</td>\n",
       "      <td>1997-10-27 14:00:00</td>\n",
       "      <td>2023-08-30 10:00:00</td>\n",
       "      <td>0.0</td>\n",
       "      <td>0.0</td>\n",
       "      <td>0.0</td>\n",
       "      <td>2022-08-30 19:05:55</td>\n",
       "      <td>2022-08-30 19:05:55</td>\n",
       "    </tr>\n",
       "  </tbody>\n",
       "</table>\n",
       "</div>"
      ],
      "text/plain": [
       "   id  user_id  house_id        initial_date          final_date  daily_price  \\\n",
       "0   1        1         1 2022-08-23 14:00:00 2022-09-28 10:00:00        300.0   \n",
       "1   2        1         1 2019-04-02 15:25:37 2019-05-02 15:25:37        500.0   \n",
       "2   4        1         1 2023-04-02 15:25:37 2023-05-02 15:25:37       1000.0   \n",
       "3   6        1         1 2023-08-28 14:00:00 2023-09-30 10:00:00        500.0   \n",
       "4   7        1         1 2022-10-27 14:00:00 2022-11-05 10:00:00        200.0   \n",
       "5   8        1         1 1997-10-27 14:00:00 2023-08-30 10:00:00          0.0   \n",
       "\n",
       "   cleaning_price  discount          created_at          updated_at  \n",
       "0           100.0       0.0 2022-08-24 00:19:57 2022-08-25 23:39:25  \n",
       "1           200.0     100.0 2022-08-25 19:56:46 2022-08-25 23:41:59  \n",
       "2           400.0    3223.0 2022-08-27 00:20:00 2022-08-27 00:21:20  \n",
       "3           200.0     100.0 2022-08-30 18:57:19 2022-08-30 18:57:19  \n",
       "4           230.0       0.0 2022-08-30 19:05:33 2022-08-30 19:05:33  \n",
       "5             0.0       0.0 2022-08-30 19:05:55 2022-08-30 19:05:55  "
      ]
     },
     "metadata": {},
     "output_type": "display_data"
    }
   ],
   "source": [
    "rents_df = pd.read_sql('select * from rents', conexao)\n",
    "display(rents_df)"
   ]
  }
 ],
 "metadata": {
  "kernelspec": {
   "display_name": "Python 3",
   "language": "python",
   "name": "python3"
  },
  "language_info": {
   "codemirror_mode": {
    "name": "ipython",
    "version": 3
   },
   "file_extension": ".py",
   "mimetype": "text/x-python",
   "name": "python",
   "nbconvert_exporter": "python",
   "pygments_lexer": "ipython3",
   "version": "3.10.12"
  },
  "orig_nbformat": 4
 },
 "nbformat": 4,
 "nbformat_minor": 2
}
