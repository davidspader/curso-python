{
 "cells": [
  {
   "cell_type": "markdown",
   "metadata": {},
   "source": [
    "# Exercício - Mini Projeto de Análise de Dados\n",
    "\n",
    "Vamos fazer um exercício completo de pandas para um miniprojeto de análise de dados.\n",
    "\n",
    "Esse exercício vai obrigar a gente a usar boa parte dos conhecimento de pandas e até de outros módulos que já aprendemos ao longo do curso.\n",
    "\n",
    "### O que temos?\n",
    "\n",
    "Temos os dados de 2019 de uma empresa de prestação de serviços. \n",
    "\n",
    "- CadastroFuncionarios\n",
    "- CadastroClientes\n",
    "- BaseServiçosPrestados\n",
    "\n",
    "Obs1: Para ler arquivos csv, temos o read_csv<br>\n",
    "Obs2: Para ler arquivos xlsx (arquivos em excel normais, que não são padrão csv), temos o read_excel\n",
    "\n",
    "### O que queremos saber/fazer?\n",
    "\n",
    "1. Valor Total da Folha Salarial -> Qual foi o gasto total com salários de funcionários pela empresa? <br>\n",
    "    Sugestão: calcule o salário total de cada funcionário, salário + benefícios + impostos, depois some todos os salários\n",
    "    \n",
    "    \n",
    "2. Qual foi o faturamento da empresa?<br>\n",
    "    Sugestão: calcule o faturamento total de cada serviço e depois some o faturamento de todos\n",
    "    \n",
    "    \n",
    "3. Qual o % de funcionários que já fechou algum contrato?<br>\n",
    "    Sugestão: na base de serviços temos o funcionário que fechou cada serviço. Mas nem todos os funcionários que a empresa tem já fecharam algum serviço.<br>\n",
    "    . Na base de funcionários temos uma lista com todos os funcionários<br>\n",
    "    . Queremos calcular Qtde_Funcionarios_Fecharam_Serviço / Qtde_Funcionários_Totais<br>\n",
    "    . Para calcular a qtde de funcionários que fecharam algum serviço, use a base de serviços e conte quantos funcionários tem ali. Mas lembre-se, cada funcionário só pode ser contado uma única vez.<br><br>\n",
    "    Dica: se você aplicar o método .unique() em uma variável que é apenas 1 coluna de um dataframe, ele vai excluir todos os valores duplicados daquela coluna.<br>\n",
    "    Ex: unicos_colunaA = dataframe['colunaA'].unique() te dá como resposta uma lista com todos os itens da colunaA aparecendo uma única vez. Todos os valores repetidos da colunaA são excluidos da variável unicos_colunaA \n",
    "    \n",
    "    \n",
    "4. Calcule o total de contratos que cada área da empresa já fechou\n",
    "\n",
    "\n",
    "5. Calcule o total de funcionários por área\n",
    "\n",
    "\n",
    "6. Qual o ticket médio mensal (faturamento médio mensal) dos contratos?<br>\n",
    "    Dica: .mean() calcula a média -> exemplo: media_colunaA = dataframe['colunaA'].mean()\n",
    "\n",
    "Obs: Lembrando as opções mais usuais de encoding:<br>\n",
    "encoding='latin1', encoding='ISO-8859-1', encoding='utf-8' ou então encoding='cp1252'\n",
    "\n",
    "Observação Importante: Se o seu código der um erro na hora de importar os arquivos:<br>\n",
    "- CadastroClientes.csv\n",
    "- CadastroFuncionarios.csv\n",
    "\n",
    "Use separador \";\" (ponto e vírgula) para resolver"
   ]
  },
  {
   "cell_type": "code",
   "execution_count": 23,
   "metadata": {},
   "outputs": [],
   "source": [
    "import pandas as pd\n",
    "\n",
    "funcionarios_df = pd.read_csv(r'CadastroFuncionarios.csv', sep=';', decimal=',')\n",
    "clientes_df = pd.read_csv(r'CadastroClientes.csv', sep=';', decimal=',')\n",
    "servicos_df = pd.read_excel(r'BaseServiçosPrestados.xlsx')\n",
    "\n",
    "funcionarios_df = funcionarios_df.drop(['Estado Civil', 'Cargo'], axis=1)"
   ]
  },
  {
   "cell_type": "code",
   "execution_count": 24,
   "metadata": {},
   "outputs": [
    {
     "data": {
      "text/html": [
       "<div>\n",
       "<style scoped>\n",
       "    .dataframe tbody tr th:only-of-type {\n",
       "        vertical-align: middle;\n",
       "    }\n",
       "\n",
       "    .dataframe tbody tr th {\n",
       "        vertical-align: top;\n",
       "    }\n",
       "\n",
       "    .dataframe thead th {\n",
       "        text-align: right;\n",
       "    }\n",
       "</style>\n",
       "<table border=\"1\" class=\"dataframe\">\n",
       "  <thead>\n",
       "    <tr style=\"text-align: right;\">\n",
       "      <th></th>\n",
       "      <th>ID Funcionário</th>\n",
       "      <th>Nome Completo</th>\n",
       "      <th>Salario Base</th>\n",
       "      <th>Impostos</th>\n",
       "      <th>Beneficios</th>\n",
       "      <th>VT</th>\n",
       "      <th>VR</th>\n",
       "      <th>Area</th>\n",
       "      <th>Salario Total</th>\n",
       "    </tr>\n",
       "  </thead>\n",
       "  <tbody>\n",
       "    <tr>\n",
       "      <th>0</th>\n",
       "      <td>1</td>\n",
       "      <td>Gabriel Mesquita</td>\n",
       "      <td>21910</td>\n",
       "      <td>10955.0</td>\n",
       "      <td>4382.0</td>\n",
       "      <td>242</td>\n",
       "      <td>719.04</td>\n",
       "      <td>Operações</td>\n",
       "      <td>38208.04</td>\n",
       "    </tr>\n",
       "    <tr>\n",
       "      <th>1</th>\n",
       "      <td>2</td>\n",
       "      <td>João Haddad</td>\n",
       "      <td>5404</td>\n",
       "      <td>2702.0</td>\n",
       "      <td>1080.8</td>\n",
       "      <td>154</td>\n",
       "      <td>574.56</td>\n",
       "      <td>Logística</td>\n",
       "      <td>9915.36</td>\n",
       "    </tr>\n",
       "    <tr>\n",
       "      <th>2</th>\n",
       "      <td>3</td>\n",
       "      <td>Amanda Marques Ribeiro</td>\n",
       "      <td>16066</td>\n",
       "      <td>8033.0</td>\n",
       "      <td>3213.2</td>\n",
       "      <td>154</td>\n",
       "      <td>729.12</td>\n",
       "      <td>Administrativo</td>\n",
       "      <td>28195.32</td>\n",
       "    </tr>\n",
       "    <tr>\n",
       "      <th>3</th>\n",
       "      <td>4</td>\n",
       "      <td>Guilherme Nunez</td>\n",
       "      <td>21305</td>\n",
       "      <td>10652.5</td>\n",
       "      <td>4261.0</td>\n",
       "      <td>220</td>\n",
       "      <td>524.16</td>\n",
       "      <td>Administrativo</td>\n",
       "      <td>36962.66</td>\n",
       "    </tr>\n",
       "    <tr>\n",
       "      <th>4</th>\n",
       "      <td>5</td>\n",
       "      <td>Adelino Gomes</td>\n",
       "      <td>5098</td>\n",
       "      <td>2549.0</td>\n",
       "      <td>1019.6</td>\n",
       "      <td>176</td>\n",
       "      <td>725.76</td>\n",
       "      <td>Administrativo</td>\n",
       "      <td>9568.36</td>\n",
       "    </tr>\n",
       "    <tr>\n",
       "      <th>...</th>\n",
       "      <td>...</td>\n",
       "      <td>...</td>\n",
       "      <td>...</td>\n",
       "      <td>...</td>\n",
       "      <td>...</td>\n",
       "      <td>...</td>\n",
       "      <td>...</td>\n",
       "      <td>...</td>\n",
       "      <td>...</td>\n",
       "    </tr>\n",
       "    <tr>\n",
       "      <th>109</th>\n",
       "      <td>143</td>\n",
       "      <td>Renan Scharnhorst Ott</td>\n",
       "      <td>10793</td>\n",
       "      <td>5396.5</td>\n",
       "      <td>2158.6</td>\n",
       "      <td>242</td>\n",
       "      <td>514.08</td>\n",
       "      <td>Logística</td>\n",
       "      <td>19104.18</td>\n",
       "    </tr>\n",
       "    <tr>\n",
       "      <th>110</th>\n",
       "      <td>144</td>\n",
       "      <td>Lucas Brum Pereira</td>\n",
       "      <td>4048</td>\n",
       "      <td>2024.0</td>\n",
       "      <td>809.6</td>\n",
       "      <td>198</td>\n",
       "      <td>796.32</td>\n",
       "      <td>Comercial</td>\n",
       "      <td>7875.92</td>\n",
       "    </tr>\n",
       "    <tr>\n",
       "      <th>111</th>\n",
       "      <td>148</td>\n",
       "      <td>Caio Stellet</td>\n",
       "      <td>24596</td>\n",
       "      <td>12298.0</td>\n",
       "      <td>4919.2</td>\n",
       "      <td>242</td>\n",
       "      <td>561.12</td>\n",
       "      <td>Administrativo</td>\n",
       "      <td>42616.32</td>\n",
       "    </tr>\n",
       "    <tr>\n",
       "      <th>112</th>\n",
       "      <td>149</td>\n",
       "      <td>Fernanda Rocha</td>\n",
       "      <td>5078</td>\n",
       "      <td>2539.0</td>\n",
       "      <td>1015.6</td>\n",
       "      <td>308</td>\n",
       "      <td>665.28</td>\n",
       "      <td>Comercial</td>\n",
       "      <td>9605.88</td>\n",
       "    </tr>\n",
       "    <tr>\n",
       "      <th>113</th>\n",
       "      <td>150</td>\n",
       "      <td>Eduardo Brum</td>\n",
       "      <td>15939</td>\n",
       "      <td>7969.5</td>\n",
       "      <td>3187.8</td>\n",
       "      <td>220</td>\n",
       "      <td>769.44</td>\n",
       "      <td>Comercial</td>\n",
       "      <td>28085.74</td>\n",
       "    </tr>\n",
       "  </tbody>\n",
       "</table>\n",
       "<p>114 rows × 9 columns</p>\n",
       "</div>"
      ],
      "text/plain": [
       "     ID Funcionário           Nome Completo  Salario Base  Impostos  \\\n",
       "0                 1        Gabriel Mesquita         21910   10955.0   \n",
       "1                 2             João Haddad          5404    2702.0   \n",
       "2                 3  Amanda Marques Ribeiro         16066    8033.0   \n",
       "3                 4         Guilherme Nunez         21305   10652.5   \n",
       "4                 5           Adelino Gomes          5098    2549.0   \n",
       "..              ...                     ...           ...       ...   \n",
       "109             143   Renan Scharnhorst Ott         10793    5396.5   \n",
       "110             144      Lucas Brum Pereira          4048    2024.0   \n",
       "111             148            Caio Stellet         24596   12298.0   \n",
       "112             149          Fernanda Rocha          5078    2539.0   \n",
       "113             150            Eduardo Brum         15939    7969.5   \n",
       "\n",
       "     Beneficios   VT      VR            Area  Salario Total  \n",
       "0        4382.0  242  719.04       Operações       38208.04  \n",
       "1        1080.8  154  574.56       Logística        9915.36  \n",
       "2        3213.2  154  729.12  Administrativo       28195.32  \n",
       "3        4261.0  220  524.16  Administrativo       36962.66  \n",
       "4        1019.6  176  725.76  Administrativo        9568.36  \n",
       "..          ...  ...     ...             ...            ...  \n",
       "109      2158.6  242  514.08       Logística       19104.18  \n",
       "110       809.6  198  796.32       Comercial        7875.92  \n",
       "111      4919.2  242  561.12  Administrativo       42616.32  \n",
       "112      1015.6  308  665.28       Comercial        9605.88  \n",
       "113      3187.8  220  769.44       Comercial       28085.74  \n",
       "\n",
       "[114 rows x 9 columns]"
      ]
     },
     "metadata": {},
     "output_type": "display_data"
    },
    {
     "name": "stdout",
     "output_type": "stream",
     "text": [
      "A folha salarial mensal é de: R$2,717,493.22\n"
     ]
    }
   ],
   "source": [
    "# 1\n",
    "\n",
    "funcionarios_df['Salario Total'] = funcionarios_df['Salario Base'] + funcionarios_df['Impostos'] + funcionarios_df['Beneficios'] + funcionarios_df['VT'] + funcionarios_df['VR']\n",
    "salario_total_empresa = funcionarios_df['Salario Total'].sum()\n",
    "display(funcionarios_df)\n",
    "print('A folha salarial mensal é de: R${:,}'.format(salario_total_empresa))"
   ]
  },
  {
   "cell_type": "code",
   "execution_count": 28,
   "metadata": {},
   "outputs": [
    {
     "name": "stdout",
     "output_type": "stream",
     "text": [
      "Faturamento total: R$5,519,160\n"
     ]
    }
   ],
   "source": [
    "# 2\n",
    "\n",
    "faturamentos_df = servicos_df[['ID Cliente', 'Tempo Total de Contrato (Meses)']].merge(clientes_df[['ID Cliente', 'Valor Contrato Mensal']], on='ID Cliente')\n",
    "faturamentos_df['Faturamento Total'] = faturamentos_df['Tempo Total de Contrato (Meses)'] * faturamentos_df['Valor Contrato Mensal']\n",
    "print('Faturamento total: R${:,}'.format(sum(faturamentos_df['Faturamento Total'])))"
   ]
  },
  {
   "cell_type": "code",
   "execution_count": 29,
   "metadata": {},
   "outputs": [
    {
     "name": "stdout",
     "output_type": "stream",
     "text": [
      "Percentual de funcionarios com contratos fechados: 86.84%\n"
     ]
    }
   ],
   "source": [
    "# 3\n",
    "\n",
    "qtde_funcionario_total = len(funcionarios_df['ID Funcionário'])\n",
    "qtde_funcionario_com_contrato = len(servicos_df['ID Funcionário'].unique())\n",
    "print('Percentual de funcionarios com contratos fechados: {:.2%}'.format(qtde_funcionario_com_contrato / qtde_funcionario_total))"
   ]
  },
  {
   "cell_type": "code",
   "execution_count": 31,
   "metadata": {},
   "outputs": [
    {
     "name": "stdout",
     "output_type": "stream",
     "text": [
      "Administrativo    63\n",
      "Operações         48\n",
      "Comercial         44\n",
      "Financeiro        42\n",
      "Logística         40\n",
      "Name: Area, dtype: int64\n"
     ]
    }
   ],
   "source": [
    "# 4\n",
    "\n",
    "contratos_area_df = servicos_df[['ID Funcionário']].merge(funcionarios_df[['ID Funcionário', 'Area']], on='ID Funcionário')\n",
    "contratos_area_df = contratos_area_df['Area'].value_counts()\n",
    "print(contratos_area_df)"
   ]
  },
  {
   "cell_type": "code",
   "execution_count": 32,
   "metadata": {},
   "outputs": [
    {
     "name": "stdout",
     "output_type": "stream",
     "text": [
      "Administrativo    26\n",
      "Comercial         26\n",
      "Operações         23\n",
      "Logística         21\n",
      "Financeiro        18\n",
      "Name: Area, dtype: int64\n"
     ]
    }
   ],
   "source": [
    "# 5\n",
    "\n",
    "funcionarios_area = funcionarios_df['Area'].value_counts()\n",
    "print(funcionarios_area)"
   ]
  },
  {
   "cell_type": "code",
   "execution_count": 36,
   "metadata": {},
   "outputs": [
    {
     "name": "stdout",
     "output_type": "stream",
     "text": [
      "Ticket médio: R$2,502.56\n"
     ]
    }
   ],
   "source": [
    "# 6\n",
    "\n",
    "ticket_medio = clientes_df['Valor Contrato Mensal'].mean()\n",
    "print('Ticket médio: R${:,.2f}'.format(ticket_medio))"
   ]
  }
 ],
 "metadata": {
  "kernelspec": {
   "display_name": "Python 3",
   "language": "python",
   "name": "python3"
  },
  "language_info": {
   "codemirror_mode": {
    "name": "ipython",
    "version": 3
   },
   "file_extension": ".py",
   "mimetype": "text/x-python",
   "name": "python",
   "nbconvert_exporter": "python",
   "pygments_lexer": "ipython3",
   "version": "3.10.12"
  }
 },
 "nbformat": 4,
 "nbformat_minor": 4
}
