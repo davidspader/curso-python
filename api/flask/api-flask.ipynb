{
 "cells": [
  {
   "cell_type": "code",
   "execution_count": 1,
   "metadata": {},
   "outputs": [
    {
     "name": "stdout",
     "output_type": "stream",
     "text": [
      " * Serving Flask app '__main__'\n",
      " * Debug mode: off\n"
     ]
    },
    {
     "name": "stderr",
     "output_type": "stream",
     "text": [
      "\u001b[31m\u001b[1mWARNING: This is a development server. Do not use it in a production deployment. Use a production WSGI server instead.\u001b[0m\n",
      " * Running on http://127.0.0.1:5000\n",
      "\u001b[33mPress CTRL+C to quit\u001b[0m\n"
     ]
    }
   ],
   "source": [
    "from flask import Flask\n",
    "import pandas as pd\n",
    "\n",
    "app = Flask(__name__)\n",
    "tabela = pd.read_excel(\"Vendas - Dez.xlsx\")\n",
    "\n",
    "@app.route(\"/\")\n",
    "def fat():\n",
    "    faturamento = float(tabela[\"Valor Final\"].sum())\n",
    "    return {\"faturamento\": faturamento}\n",
    "\n",
    "@app.route(\"/vendas/produtos\") \n",
    "def vendas_produtos(): \n",
    "    tabela_vendas_produtos = tabela[[\"Produto\", \"Valor Final\"]].groupby(\"Produto\").sum()\n",
    "    dic_vendas_produtos = tabela_vendas_produtos.to_dict()\n",
    "    return dic_vendas_produtos\n",
    "\n",
    "@app.route(\"/vendas/produtos/<produto>\") \n",
    "def fat_produto(produto): \n",
    "    tabela_vendas_produtos = tabela[[\"Produto\", \"Valor Final\"]].groupby(\"Produto\").sum()\n",
    "    if produto in tabela_vendas_produtos.index:\n",
    "        vendas_produto = tabela_vendas_produtos.loc[produto]\n",
    "        dic_vendas_produto = vendas_produto.to_dict()\n",
    "        return dic_vendas_produto\n",
    "    else:\n",
    "        return {produto: \"Inexistente\"}\n",
    "\n",
    "app.run()"
   ]
  }
 ],
 "metadata": {
  "kernelspec": {
   "display_name": "Python 3",
   "language": "python",
   "name": "python3"
  },
  "language_info": {
   "codemirror_mode": {
    "name": "ipython",
    "version": 3
   },
   "file_extension": ".py",
   "mimetype": "text/x-python",
   "name": "python",
   "nbconvert_exporter": "python",
   "pygments_lexer": "ipython3",
   "version": "3.10.12"
  },
  "orig_nbformat": 4
 },
 "nbformat": 4,
 "nbformat_minor": 2
}
